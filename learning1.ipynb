{
 "cells": [
  {
   "cell_type": "code",
   "execution_count": 27,
   "id": "d37b9fc4-ced1-442a-ade2-534f6687832f",
   "metadata": {},
   "outputs": [],
   "source": [
    "import pandas as pd\n",
    "import numpy as np\n",
    "import matplotlib.pyplot as plt\n",
    "import seaborn as sns"
   ]
  },
  {
   "cell_type": "code",
   "execution_count": 28,
   "id": "461f1ebc-d6ee-48da-a3ba-8dc2bfab3a09",
   "metadata": {},
   "outputs": [],
   "source": [
    "df = pd.read_csv('flights.csv')"
   ]
  },
  {
   "cell_type": "code",
   "execution_count": 29,
   "id": "00f23245-5d9f-4bd5-9a7a-b44cacdd9d8a",
   "metadata": {},
   "outputs": [
    {
     "name": "stdout",
     "output_type": "stream",
     "text": [
      "   year  month  day  dep_time  sched_dep_time  dep_delay  arr_time  \\\n",
      "0  2013      1    1     517.0             515        2.0     830.0   \n",
      "1  2013      1    1     533.0             529        4.0     850.0   \n",
      "2  2013      1    1     542.0             540        2.0     923.0   \n",
      "3  2013      1    1     544.0             545       -1.0    1004.0   \n",
      "4  2013      1    1     554.0             600       -6.0     812.0   \n",
      "\n",
      "   sched_arr_time  arr_delay carrier  flight tailnum origin dest  air_time  \\\n",
      "0             819       11.0      UA    1545  N14228    EWR  IAH     227.0   \n",
      "1             830       20.0      UA    1714  N24211    LGA  IAH     227.0   \n",
      "2             850       33.0      AA    1141  N619AA    JFK  MIA     160.0   \n",
      "3            1022      -18.0      B6     725  N804JB    JFK  BQN     183.0   \n",
      "4             837      -25.0      DL     461  N668DN    LGA  ATL     116.0   \n",
      "\n",
      "   distance  hour  minute      time_hour  \n",
      "0      1400     5      15  1/1/2013 5:00  \n",
      "1      1416     5      29  1/1/2013 5:00  \n",
      "2      1089     5      40  1/1/2013 5:00  \n",
      "3      1576     5      45  1/1/2013 5:00  \n",
      "4       762     6       0  1/1/2013 6:00  \n"
     ]
    }
   ],
   "source": [
    "print(df.head())"
   ]
  },
  {
   "cell_type": "code",
   "execution_count": 94,
   "id": "20b2b157-69a6-45ed-9e93-4359ac3e18cf",
   "metadata": {},
   "outputs": [
    {
     "name": "stdout",
     "output_type": "stream",
     "text": [
      "26.23009953203316\n"
     ]
    }
   ],
   "source": [
    "mn = df[\"minute\"].mean()\n",
    "print(mn)"
   ]
  },
  {
   "cell_type": "code",
   "execution_count": 76,
   "id": "79da447c-92a9-49d9-b769-0774e4f902a8",
   "metadata": {},
   "outputs": [
    {
     "data": {
      "text/plain": [
       "1039.9126036297123"
      ]
     },
     "execution_count": 76,
     "metadata": {},
     "output_type": "execute_result"
    }
   ],
   "source": [
    "np.mean(df[\"distance\"])"
   ]
  },
  {
   "cell_type": "code",
   "execution_count": 104,
   "id": "2e54caf8-d3b6-43a8-802a-4a2416eb3f6e",
   "metadata": {},
   "outputs": [
    {
     "data": {
      "image/png": "[encoded data removed]",
      "text/plain": [
       "<Figure size 640x480 with 1 Axes>"
      ]
     },
     "metadata": {},
     "output_type": "display_data"
    }
   ],
   "source": [
    "sns.histplot(x = \"distance\" , data = df , bins = [i for i in range(0,2000,100)])\n",
    "\n",
    "plt.show()"
   ]
  },
  {
   "cell_type": "code",
   "execution_count": 321,
   "id": "a0560ee9-a8a9-4ebc-a53d-1dcabf49ad7a",
   "metadata": {},
   "outputs": [
    {
     "ename": "TypeError",
     "evalue": "'int' object is not callable",
     "output_type": "error",
     "traceback": [
      "\u001b[1;31m---------------------------------------------------------------------------\u001b[0m",
      "\u001b[1;31mTypeError\u001b[0m                                 Traceback (most recent call last)",
      "Cell \u001b[1;32mIn[321], line 1\u001b[0m\n\u001b[1;32m----> 1\u001b[0m sns\u001b[38;5;241m.\u001b[39mhistplot(x \u001b[38;5;241m=\u001b[39m \u001b[38;5;124m\"\u001b[39m\u001b[38;5;124mminute\u001b[39m\u001b[38;5;124m\"\u001b[39m , data \u001b[38;5;241m=\u001b[39m df , bins \u001b[38;5;241m=\u001b[39m [i \u001b[38;5;28;01mfor\u001b[39;00m i \u001b[38;5;129;01min\u001b[39;00m \u001b[38;5;28mrange\u001b[39m(\u001b[38;5;241m0\u001b[39m,\u001b[38;5;241m61\u001b[39m,\u001b[38;5;241m2\u001b[39m)])\n\u001b[0;32m      2\u001b[0m plt\u001b[38;5;241m.\u001b[39mplot([mmm \u001b[38;5;28;01mfor\u001b[39;00m i \u001b[38;5;129;01min\u001b[39;00m \u001b[38;5;28mrange\u001b[39m(\u001b[38;5;241m0\u001b[39m,\u001b[38;5;241m60000\u001b[39m)],[i \u001b[38;5;28;01mfor\u001b[39;00m i \u001b[38;5;129;01min\u001b[39;00m \u001b[38;5;28mrange\u001b[39m(\u001b[38;5;241m0\u001b[39m,\u001b[38;5;241m60000\u001b[39m)] , c \u001b[38;5;241m=\u001b[39m\u001b[38;5;124m\"\u001b[39m\u001b[38;5;124myellow\u001b[39m\u001b[38;5;124m\"\u001b[39m,label \u001b[38;5;241m=\u001b[39m \u001b[38;5;124m\"\u001b[39m\u001b[38;5;124mmean\u001b[39m\u001b[38;5;124m\"\u001b[39m)\n\u001b[0;32m      3\u001b[0m plt\u001b[38;5;241m.\u001b[39mplot([m \u001b[38;5;28;01mfor\u001b[39;00m i \u001b[38;5;129;01min\u001b[39;00m \u001b[38;5;28mrange\u001b[39m(\u001b[38;5;241m0\u001b[39m,\u001b[38;5;241m30000\u001b[39m)],[i \u001b[38;5;28;01mfor\u001b[39;00m i \u001b[38;5;129;01min\u001b[39;00m \u001b[38;5;28mrange\u001b[39m(\u001b[38;5;241m0\u001b[39m,\u001b[38;5;241m30000\u001b[39m)] , c \u001b[38;5;241m=\u001b[39m\u001b[38;5;124m\"\u001b[39m\u001b[38;5;124mred\u001b[39m\u001b[38;5;124m\"\u001b[39m,label \u001b[38;5;241m=\u001b[39m \u001b[38;5;124m\"\u001b[39m\u001b[38;5;124mmedian\u001b[39m\u001b[38;5;124m\"\u001b[39m)\n",
      "\u001b[1;31mTypeError\u001b[0m: 'int' object is not callable"
     ]
    }
   ],
   "source": [
    "sns.histplot(x = \"minute\" , data = df , bins = [i for i in range(0,61,2)])\n",
    "plt.plot([mmm for i in range(0,60000)],[i for i in range(0,60000)] , c =\"yellow\",label = \"mean\")\n",
    "plt.plot([m for i in range(0,30000)],[i for i in range(0,30000)] , c =\"red\",label = \"median\")\n",
    "plt.plot([mm for i in range(0,30000)],[i for i in range(0,30000)] , c =\"blue\" , label = \"mode\")\n",
    "plt.legend()\n",
    "\n",
    "plt.plot([mn for i in range(0,70000)] , [ i for i in range(0,70000)] , c = \"red\")"
   ]
  },
  {
   "cell_type": "code",
   "execution_count": 114,
   "id": "be10ba87-b97d-40af-8b61-3eae0782e64a",
   "metadata": {},
   "outputs": [
    {
     "data": {
      "text/plain": [
       "year                 0\n",
       "month                0\n",
       "day                  0\n",
       "dep_time          8255\n",
       "sched_dep_time       0\n",
       "dep_delay         8255\n",
       "arr_time          8713\n",
       "sched_arr_time       0\n",
       "arr_delay         9430\n",
       "carrier              0\n",
       "flight               0\n",
       "tailnum           2512\n",
       "origin               0\n",
       "dest                 0\n",
       "air_time          9430\n",
       "distance             0\n",
       "hour                 0\n",
       "minute               0\n",
       "time_hour            0\n",
       "dtype: int64"
      ]
     },
     "execution_count": 114,
     "metadata": {},
     "output_type": "execute_result"
    }
   ],
   "source": [
    "df.isnull().sum()"
   ]
  },
  {
   "cell_type": "code",
   "execution_count": null,
   "id": "a0024a23-2972-43c2-a8b5-4efbb33f0995",
   "metadata": {},
   "outputs": [],
   "source": []
  },
  {
   "cell_type": "code",
   "execution_count": 108,
   "id": "dfcfdb7f-6fda-4966-a5f0-1a538edf3a00",
   "metadata": {},
   "outputs": [
    {
     "data": {
      "text/plain": [
       "13.180247404803193"
      ]
     },
     "execution_count": 108,
     "metadata": {},
     "output_type": "execute_result"
    }
   ],
   "source": [
    "df[\"hour\"].mean()"
   ]
  },
  {
   "cell_type": "code",
   "execution_count": 130,
   "id": "38692b0c-f2d5-4a52-ab81-230a8e1699a8",
   "metadata": {},
   "outputs": [
    {
     "data": {
      "text/plain": [
       "0     5\n",
       "1     5\n",
       "2     5\n",
       "3     5\n",
       "4     6\n",
       "5     5\n",
       "6     6\n",
       "7     6\n",
       "8     6\n",
       "9     6\n",
       "10    6\n",
       "11    6\n",
       "12    6\n",
       "13    6\n",
       "14    6\n",
       "15    5\n",
       "16    6\n",
       "17    6\n",
       "18    6\n",
       "19    6\n",
       "Name: hour, dtype: int64"
      ]
     },
     "execution_count": 130,
     "metadata": {},
     "output_type": "execute_result"
    }
   ],
   "source": [
    "df[\"hour\"].fillna(df[\"hour\"].mean())\n",
    "df[\"hour\"].head(20)"
   ]
  },
  {
   "cell_type": "code",
   "execution_count": 116,
   "id": "e7a3bcee-30b9-45a0-8f54-b16f369b5be9",
   "metadata": {},
   "outputs": [
    {
     "data": {
      "text/plain": [
       "13.0"
      ]
     },
     "execution_count": 116,
     "metadata": {},
     "output_type": "execute_result"
    }
   ],
   "source": [
    "df[\"hour\"].median()"
   ]
  },
  {
   "cell_type": "code",
   "execution_count": 149,
   "id": "752f1afb-fffb-4458-b93c-d206b558f1f8",
   "metadata": {},
   "outputs": [
    {
     "name": "stdout",
     "output_type": "stream",
     "text": [
      "13.0 13.180247404803193\n"
     ]
    }
   ],
   "source": [
    "md = np.median(df[\"hour\"])\n",
    "mk = np.mean(df[\"hour\"])\n",
    "print(md,mk)"
   ]
  },
  {
   "cell_type": "code",
   "execution_count": 147,
   "id": "09056627-d73d-492c-b978-27351c99efa3",
   "metadata": {},
   "outputs": [
    {
     "data": {
      "text/plain": [
       "[<matplotlib.lines.Line2D at 0x1c3b7f0aff0>]"
      ]
     },
     "execution_count": 147,
     "metadata": {},
     "output_type": "execute_result"
    },
    {
     "data": {
      "image/png": "[encoded data removed]",
      "text/plain": [
       "<Figure size 640x480 with 1 Axes>"
      ]
     },
     "metadata": {},
     "output_type": "display_data"
    }
   ],
   "source": [
    "sns.histplot(x = \"hour\" , data = df , bins = [i for i in range(5,25)])\n",
    "plt.plot([md for i in range(0,70000)],[i for i in range(0,70000)] , c = \"red\")\n",
    "plt.plot([mk for i in range(0,70000)],[i for i in range(0,70000)] , c = \"blue\")"
   ]
  },
  {
   "cell_type": "code",
   "execution_count": 151,
   "id": "55635044-712c-40a5-90d7-b72767c761dc",
   "metadata": {},
   "outputs": [
    {
     "data": {
      "text/html": [
       "<div>\n",
       "<style scoped>\n",
       "    .dataframe tbody tr th:only-of-type {\n",
       "        vertical-align: middle;\n",
       "    }\n",
       "\n",
       "    .dataframe tbody tr th {\n",
       "        vertical-align: top;\n",
       "    }\n",
       "\n",
       "    .dataframe thead th {\n",
       "        text-align: right;\n",
       "    }\n",
       "</style>\n",
       "<table border=\"1\" class=\"dataframe\">\n",
       "  <thead>\n",
       "    <tr style=\"text-align: right;\">\n",
       "      <th></th>\n",
       "      <th>year</th>\n",
       "      <th>month</th>\n",
       "      <th>day</th>\n",
       "      <th>dep_time</th>\n",
       "      <th>sched_dep_time</th>\n",
       "      <th>dep_delay</th>\n",
       "      <th>arr_time</th>\n",
       "      <th>sched_arr_time</th>\n",
       "      <th>arr_delay</th>\n",
       "      <th>carrier</th>\n",
       "      <th>flight</th>\n",
       "      <th>tailnum</th>\n",
       "      <th>origin</th>\n",
       "      <th>dest</th>\n",
       "      <th>air_time</th>\n",
       "      <th>distance</th>\n",
       "      <th>hour</th>\n",
       "      <th>minute</th>\n",
       "      <th>time_hour</th>\n",
       "    </tr>\n",
       "  </thead>\n",
       "  <tbody>\n",
       "    <tr>\n",
       "      <th>0</th>\n",
       "      <td>2013</td>\n",
       "      <td>1</td>\n",
       "      <td>1</td>\n",
       "      <td>517.0</td>\n",
       "      <td>515</td>\n",
       "      <td>2.0</td>\n",
       "      <td>830.0</td>\n",
       "      <td>819</td>\n",
       "      <td>11.0</td>\n",
       "      <td>UA</td>\n",
       "      <td>1545</td>\n",
       "      <td>N14228</td>\n",
       "      <td>EWR</td>\n",
       "      <td>IAH</td>\n",
       "      <td>227.0</td>\n",
       "      <td>1400</td>\n",
       "      <td>5</td>\n",
       "      <td>15</td>\n",
       "      <td>1/1/2013 5:00</td>\n",
       "    </tr>\n",
       "    <tr>\n",
       "      <th>1</th>\n",
       "      <td>2013</td>\n",
       "      <td>1</td>\n",
       "      <td>1</td>\n",
       "      <td>533.0</td>\n",
       "      <td>529</td>\n",
       "      <td>4.0</td>\n",
       "      <td>850.0</td>\n",
       "      <td>830</td>\n",
       "      <td>20.0</td>\n",
       "      <td>UA</td>\n",
       "      <td>1714</td>\n",
       "      <td>N24211</td>\n",
       "      <td>LGA</td>\n",
       "      <td>IAH</td>\n",
       "      <td>227.0</td>\n",
       "      <td>1416</td>\n",
       "      <td>5</td>\n",
       "      <td>29</td>\n",
       "      <td>1/1/2013 5:00</td>\n",
       "    </tr>\n",
       "    <tr>\n",
       "      <th>2</th>\n",
       "      <td>2013</td>\n",
       "      <td>1</td>\n",
       "      <td>1</td>\n",
       "      <td>542.0</td>\n",
       "      <td>540</td>\n",
       "      <td>2.0</td>\n",
       "      <td>923.0</td>\n",
       "      <td>850</td>\n",
       "      <td>33.0</td>\n",
       "      <td>AA</td>\n",
       "      <td>1141</td>\n",
       "      <td>N619AA</td>\n",
       "      <td>JFK</td>\n",
       "      <td>MIA</td>\n",
       "      <td>160.0</td>\n",
       "      <td>1089</td>\n",
       "      <td>5</td>\n",
       "      <td>40</td>\n",
       "      <td>1/1/2013 5:00</td>\n",
       "    </tr>\n",
       "    <tr>\n",
       "      <th>3</th>\n",
       "      <td>2013</td>\n",
       "      <td>1</td>\n",
       "      <td>1</td>\n",
       "      <td>544.0</td>\n",
       "      <td>545</td>\n",
       "      <td>-1.0</td>\n",
       "      <td>1004.0</td>\n",
       "      <td>1022</td>\n",
       "      <td>-18.0</td>\n",
       "      <td>B6</td>\n",
       "      <td>725</td>\n",
       "      <td>N804JB</td>\n",
       "      <td>JFK</td>\n",
       "      <td>BQN</td>\n",
       "      <td>183.0</td>\n",
       "      <td>1576</td>\n",
       "      <td>5</td>\n",
       "      <td>45</td>\n",
       "      <td>1/1/2013 5:00</td>\n",
       "    </tr>\n",
       "    <tr>\n",
       "      <th>4</th>\n",
       "      <td>2013</td>\n",
       "      <td>1</td>\n",
       "      <td>1</td>\n",
       "      <td>554.0</td>\n",
       "      <td>600</td>\n",
       "      <td>-6.0</td>\n",
       "      <td>812.0</td>\n",
       "      <td>837</td>\n",
       "      <td>-25.0</td>\n",
       "      <td>DL</td>\n",
       "      <td>461</td>\n",
       "      <td>N668DN</td>\n",
       "      <td>LGA</td>\n",
       "      <td>ATL</td>\n",
       "      <td>116.0</td>\n",
       "      <td>762</td>\n",
       "      <td>6</td>\n",
       "      <td>0</td>\n",
       "      <td>1/1/2013 6:00</td>\n",
       "    </tr>\n",
       "    <tr>\n",
       "      <th>...</th>\n",
       "      <td>...</td>\n",
       "      <td>...</td>\n",
       "      <td>...</td>\n",
       "      <td>...</td>\n",
       "      <td>...</td>\n",
       "      <td>...</td>\n",
       "      <td>...</td>\n",
       "      <td>...</td>\n",
       "      <td>...</td>\n",
       "      <td>...</td>\n",
       "      <td>...</td>\n",
       "      <td>...</td>\n",
       "      <td>...</td>\n",
       "      <td>...</td>\n",
       "      <td>...</td>\n",
       "      <td>...</td>\n",
       "      <td>...</td>\n",
       "      <td>...</td>\n",
       "      <td>...</td>\n",
       "    </tr>\n",
       "    <tr>\n",
       "      <th>336771</th>\n",
       "      <td>2013</td>\n",
       "      <td>9</td>\n",
       "      <td>30</td>\n",
       "      <td>NaN</td>\n",
       "      <td>1455</td>\n",
       "      <td>NaN</td>\n",
       "      <td>NaN</td>\n",
       "      <td>1634</td>\n",
       "      <td>NaN</td>\n",
       "      <td>9E</td>\n",
       "      <td>3393</td>\n",
       "      <td>NaN</td>\n",
       "      <td>JFK</td>\n",
       "      <td>DCA</td>\n",
       "      <td>NaN</td>\n",
       "      <td>213</td>\n",
       "      <td>14</td>\n",
       "      <td>55</td>\n",
       "      <td>30-09-2013 14:00</td>\n",
       "    </tr>\n",
       "    <tr>\n",
       "      <th>336772</th>\n",
       "      <td>2013</td>\n",
       "      <td>9</td>\n",
       "      <td>30</td>\n",
       "      <td>NaN</td>\n",
       "      <td>2200</td>\n",
       "      <td>NaN</td>\n",
       "      <td>NaN</td>\n",
       "      <td>2312</td>\n",
       "      <td>NaN</td>\n",
       "      <td>9E</td>\n",
       "      <td>3525</td>\n",
       "      <td>NaN</td>\n",
       "      <td>LGA</td>\n",
       "      <td>SYR</td>\n",
       "      <td>NaN</td>\n",
       "      <td>198</td>\n",
       "      <td>22</td>\n",
       "      <td>0</td>\n",
       "      <td>30-09-2013 22:00</td>\n",
       "    </tr>\n",
       "    <tr>\n",
       "      <th>336773</th>\n",
       "      <td>2013</td>\n",
       "      <td>9</td>\n",
       "      <td>30</td>\n",
       "      <td>NaN</td>\n",
       "      <td>1210</td>\n",
       "      <td>NaN</td>\n",
       "      <td>NaN</td>\n",
       "      <td>1330</td>\n",
       "      <td>NaN</td>\n",
       "      <td>MQ</td>\n",
       "      <td>3461</td>\n",
       "      <td>N535MQ</td>\n",
       "      <td>LGA</td>\n",
       "      <td>BNA</td>\n",
       "      <td>NaN</td>\n",
       "      <td>764</td>\n",
       "      <td>12</td>\n",
       "      <td>10</td>\n",
       "      <td>30-09-2013 12:00</td>\n",
       "    </tr>\n",
       "    <tr>\n",
       "      <th>336774</th>\n",
       "      <td>2013</td>\n",
       "      <td>9</td>\n",
       "      <td>30</td>\n",
       "      <td>NaN</td>\n",
       "      <td>1159</td>\n",
       "      <td>NaN</td>\n",
       "      <td>NaN</td>\n",
       "      <td>1344</td>\n",
       "      <td>NaN</td>\n",
       "      <td>MQ</td>\n",
       "      <td>3572</td>\n",
       "      <td>N511MQ</td>\n",
       "      <td>LGA</td>\n",
       "      <td>CLE</td>\n",
       "      <td>NaN</td>\n",
       "      <td>419</td>\n",
       "      <td>11</td>\n",
       "      <td>59</td>\n",
       "      <td>30-09-2013 11:00</td>\n",
       "    </tr>\n",
       "    <tr>\n",
       "      <th>336775</th>\n",
       "      <td>2013</td>\n",
       "      <td>9</td>\n",
       "      <td>30</td>\n",
       "      <td>NaN</td>\n",
       "      <td>840</td>\n",
       "      <td>NaN</td>\n",
       "      <td>NaN</td>\n",
       "      <td>1020</td>\n",
       "      <td>NaN</td>\n",
       "      <td>MQ</td>\n",
       "      <td>3531</td>\n",
       "      <td>N839MQ</td>\n",
       "      <td>LGA</td>\n",
       "      <td>RDU</td>\n",
       "      <td>NaN</td>\n",
       "      <td>431</td>\n",
       "      <td>8</td>\n",
       "      <td>40</td>\n",
       "      <td>30-09-2013 08:00</td>\n",
       "    </tr>\n",
       "  </tbody>\n",
       "</table>\n",
       "<p>336776 rows × 19 columns</p>\n",
       "</div>"
      ],
      "text/plain": [
       "        year  month  day  dep_time  sched_dep_time  dep_delay  arr_time  \\\n",
       "0       2013      1    1     517.0             515        2.0     830.0   \n",
       "1       2013      1    1     533.0             529        4.0     850.0   \n",
       "2       2013      1    1     542.0             540        2.0     923.0   \n",
       "3       2013      1    1     544.0             545       -1.0    1004.0   \n",
       "4       2013      1    1     554.0             600       -6.0     812.0   \n",
       "...      ...    ...  ...       ...             ...        ...       ...   \n",
       "336771  2013      9   30       NaN            1455        NaN       NaN   \n",
       "336772  2013      9   30       NaN            2200        NaN       NaN   \n",
       "336773  2013      9   30       NaN            1210        NaN       NaN   \n",
       "336774  2013      9   30       NaN            1159        NaN       NaN   \n",
       "336775  2013      9   30       NaN             840        NaN       NaN   \n",
       "\n",
       "        sched_arr_time  arr_delay carrier  flight tailnum origin dest  \\\n",
       "0                  819       11.0      UA    1545  N14228    EWR  IAH   \n",
       "1                  830       20.0      UA    1714  N24211    LGA  IAH   \n",
       "2                  850       33.0      AA    1141  N619AA    JFK  MIA   \n",
       "3                 1022      -18.0      B6     725  N804JB    JFK  BQN   \n",
       "4                  837      -25.0      DL     461  N668DN    LGA  ATL   \n",
       "...                ...        ...     ...     ...     ...    ...  ...   \n",
       "336771            1634        NaN      9E    3393     NaN    JFK  DCA   \n",
       "336772            2312        NaN      9E    3525     NaN    LGA  SYR   \n",
       "336773            1330        NaN      MQ    3461  N535MQ    LGA  BNA   \n",
       "336774            1344        NaN      MQ    3572  N511MQ    LGA  CLE   \n",
       "336775            1020        NaN      MQ    3531  N839MQ    LGA  RDU   \n",
       "\n",
       "        air_time  distance  hour  minute         time_hour  \n",
       "0          227.0      1400     5      15     1/1/2013 5:00  \n",
       "1          227.0      1416     5      29     1/1/2013 5:00  \n",
       "2          160.0      1089     5      40     1/1/2013 5:00  \n",
       "3          183.0      1576     5      45     1/1/2013 5:00  \n",
       "4          116.0       762     6       0     1/1/2013 6:00  \n",
       "...          ...       ...   ...     ...               ...  \n",
       "336771       NaN       213    14      55  30-09-2013 14:00  \n",
       "336772       NaN       198    22       0  30-09-2013 22:00  \n",
       "336773       NaN       764    12      10  30-09-2013 12:00  \n",
       "336774       NaN       419    11      59  30-09-2013 11:00  \n",
       "336775       NaN       431     8      40  30-09-2013 08:00  \n",
       "\n",
       "[336776 rows x 19 columns]"
      ]
     },
     "execution_count": 151,
     "metadata": {},
     "output_type": "execute_result"
    }
   ],
   "source": [
    "df"
   ]
  },
  {
   "cell_type": "code",
   "execution_count": 178,
   "id": "20feb9c0-dff0-4ee2-8daa-b53e40248baa",
   "metadata": {},
   "outputs": [],
   "source": [
    "mm = df[\"arr_delay\"].mode()\n",
    "mmm = df[\"arr_delay\"].mean()\n",
    "m = df[\"arr_delay\"].median()"
   ]
  },
  {
   "cell_type": "code",
   "execution_count": 157,
   "id": "01fcb8ef-803d-4231-b4ae-0ae47b387dc1",
   "metadata": {},
   "outputs": [
    {
     "data": {
      "text/plain": [
       "arr_delay\n",
       "-13.0      7177\n",
       "-10.0      7088\n",
       "-12.0      7046\n",
       "-14.0      6975\n",
       "-11.0      6863\n",
       "           ... \n",
       " 435.0        1\n",
       " 456.0        1\n",
       " 428.0        1\n",
       " 516.0        1\n",
       " 1007.0       1\n",
       "Name: count, Length: 577, dtype: int64"
      ]
     },
     "execution_count": 157,
     "metadata": {},
     "output_type": "execute_result"
    }
   ],
   "source": [
    "df[\"arr_delay\"].value_counts()"
   ]
  },
  {
   "cell_type": "code",
   "execution_count": 319,
   "id": "e81f1c55-23be-4480-bfbe-0aae234e4cfc",
   "metadata": {},
   "outputs": [
    {
     "ename": "TypeError",
     "evalue": "'int' object is not callable",
     "output_type": "error",
     "traceback": [
      "\u001b[1;31m---------------------------------------------------------------------------\u001b[0m",
      "\u001b[1;31mTypeError\u001b[0m                                 Traceback (most recent call last)",
      "Cell \u001b[1;32mIn[319], line 1\u001b[0m\n\u001b[1;32m----> 1\u001b[0m sns\u001b[38;5;241m.\u001b[39mhistplot(x \u001b[38;5;241m=\u001b[39m \u001b[38;5;124m\"\u001b[39m\u001b[38;5;124marr_delay\u001b[39m\u001b[38;5;124m\"\u001b[39m , data \u001b[38;5;241m=\u001b[39m df , bins \u001b[38;5;241m=\u001b[39m [i \u001b[38;5;28;01mfor\u001b[39;00m i \u001b[38;5;129;01min\u001b[39;00m \u001b[38;5;28mrange\u001b[39m(\u001b[38;5;241m-\u001b[39m\u001b[38;5;241m50\u001b[39m,\u001b[38;5;241m200\u001b[39m,\u001b[38;5;241m10\u001b[39m)])\n\u001b[0;32m      2\u001b[0m plt\u001b[38;5;241m.\u001b[39mplot([mmm \u001b[38;5;28;01mfor\u001b[39;00m i \u001b[38;5;129;01min\u001b[39;00m \u001b[38;5;28mrange\u001b[39m(\u001b[38;5;241m0\u001b[39m,\u001b[38;5;241m60000\u001b[39m)],[i \u001b[38;5;28;01mfor\u001b[39;00m i \u001b[38;5;129;01min\u001b[39;00m \u001b[38;5;28mrange\u001b[39m(\u001b[38;5;241m0\u001b[39m,\u001b[38;5;241m60000\u001b[39m)] , c \u001b[38;5;241m=\u001b[39m\u001b[38;5;124m\"\u001b[39m\u001b[38;5;124myellow\u001b[39m\u001b[38;5;124m\"\u001b[39m,label \u001b[38;5;241m=\u001b[39m \u001b[38;5;124m\"\u001b[39m\u001b[38;5;124mmean\u001b[39m\u001b[38;5;124m\"\u001b[39m)\n\u001b[0;32m      3\u001b[0m plt\u001b[38;5;241m.\u001b[39mplot([m \u001b[38;5;28;01mfor\u001b[39;00m i \u001b[38;5;129;01min\u001b[39;00m \u001b[38;5;28mrange\u001b[39m(\u001b[38;5;241m0\u001b[39m,\u001b[38;5;241m30000\u001b[39m)],[i \u001b[38;5;28;01mfor\u001b[39;00m i \u001b[38;5;129;01min\u001b[39;00m \u001b[38;5;28mrange\u001b[39m(\u001b[38;5;241m0\u001b[39m,\u001b[38;5;241m30000\u001b[39m)] , c \u001b[38;5;241m=\u001b[39m\u001b[38;5;124m\"\u001b[39m\u001b[38;5;124mred\u001b[39m\u001b[38;5;124m\"\u001b[39m,label \u001b[38;5;241m=\u001b[39m \u001b[38;5;124m\"\u001b[39m\u001b[38;5;124mmedian\u001b[39m\u001b[38;5;124m\"\u001b[39m)\n",
      "\u001b[1;31mTypeError\u001b[0m: 'int' object is not callable"
     ]
    }
   ],
   "source": [
    "sns.histplot(x = \"arr_delay\" , data = df , bins = [i for i in range(-50,200,10)])\n",
    "plt.plot([mmm for i in range(0,60000)],[i for i in range(0,60000)] , c =\"yellow\",label = \"mean\")\n",
    "plt.plot([m for i in range(0,30000)],[i for i in range(0,30000)] , c =\"red\",label = \"median\")\n",
    "plt.plot([mm for i in range(0,30000)],[i for i in range(0,30000)] , c =\"blue\" , label = \"mode\")"
   ]
  },
  {
   "cell_type": "code",
   "execution_count": 309,
   "id": "18333153-117f-4375-9979-71f663e93f0a",
   "metadata": {},
   "outputs": [
    {
     "ename": "TypeError",
     "evalue": "'int' object is not callable",
     "output_type": "error",
     "traceback": [
      "\u001b[1;31m---------------------------------------------------------------------------\u001b[0m",
      "\u001b[1;31mTypeError\u001b[0m                                 Traceback (most recent call last)",
      "Cell \u001b[1;32mIn[309], line 1\u001b[0m\n\u001b[1;32m----> 1\u001b[0m sns\u001b[38;5;241m.\u001b[39mhistplot(x \u001b[38;5;241m=\u001b[39m \u001b[38;5;124m\"\u001b[39m\u001b[38;5;124marr_delay\u001b[39m\u001b[38;5;124m\"\u001b[39m , data \u001b[38;5;241m=\u001b[39m df , bins \u001b[38;5;241m=\u001b[39m [i \u001b[38;5;28;01mfor\u001b[39;00m i \u001b[38;5;129;01min\u001b[39;00m \u001b[38;5;28mrange\u001b[39m(\u001b[38;5;241m-\u001b[39m\u001b[38;5;241m50\u001b[39m,\u001b[38;5;241m200\u001b[39m,\u001b[38;5;241m10\u001b[39m)])\n",
      "\u001b[1;31mTypeError\u001b[0m: 'int' object is not callable"
     ]
    }
   ],
   "source": [
    "sns.histplot(x = \"arr_delay\" , data = df , bins = [i for i in range(-50,200,10)])\n"
   ]
  },
  {
   "cell_type": "code",
   "execution_count": 196,
   "id": "4aa02e4d-9621-4b7e-a07d-5ca7b4480da6",
   "metadata": {},
   "outputs": [],
   "source": [
    "min_r = np.min(df[\"distance\"])\n",
    "max_r = np.max(df[\"distance\"])"
   ]
  },
  {
   "cell_type": "code",
   "execution_count": 198,
   "id": "43168045-7895-456b-ab61-abafb84e2326",
   "metadata": {},
   "outputs": [
    {
     "data": {
      "text/plain": [
       "(17, 4983)"
      ]
     },
     "execution_count": 198,
     "metadata": {},
     "output_type": "execute_result"
    }
   ],
   "source": [
    "min_r,max_r"
   ]
  },
  {
   "cell_type": "code",
   "execution_count": 200,
   "id": "5e844150-ab3a-4e1e-8189-997c48650335",
   "metadata": {},
   "outputs": [],
   "source": [
    "range = max_r - min_r"
   ]
  },
  {
   "cell_type": "code",
   "execution_count": 202,
   "id": "069a516c-32dc-4231-b7c6-5c5ee74c0629",
   "metadata": {},
   "outputs": [
    {
     "data": {
      "text/plain": [
       "4966"
      ]
     },
     "execution_count": 202,
     "metadata": {},
     "output_type": "execute_result"
    }
   ],
   "source": [
    "range"
   ]
  },
  {
   "cell_type": "code",
   "execution_count": 247,
   "id": "a462c502-4211-4563-b517-f61e287294fe",
   "metadata": {},
   "outputs": [],
   "source": [
    "sec_a = np.array([75,65,73,68,72,67])\n",
    "sec_b = np.array([90,96,93,51,47,43])\n",
    "no = np.array([1,2,3,4,5,6])\n",
    "ma = np.mean(sec_a)\n",
    "mb = np.mean(sec_b)"
   ]
  },
  {
   "cell_type": "code",
   "execution_count": 252,
   "id": "08e09be8-5ff7-4c0c-b073-2824b691c8d1",
   "metadata": {},
   "outputs": [
    {
     "data": {
      "text/plain": [
       "<matplotlib.legend.Legend at 0x1c3b28456d0>"
      ]
     },
     "execution_count": 252,
     "metadata": {},
     "output_type": "execute_result"
    },
    {
     "data": {
      "image/png": "[encoded data removed]",
      "text/plain": [
       "<Figure size 1000x400 with 1 Axes>"
      ]
     },
     "metadata": {},
     "output_type": "display_data"
    }
   ],
   "source": [
    "plt.figure(figsize = (10,4))\n",
    "plt.scatter(sec_a,no,c =\"red\",label = \"sec A\")\n",
    "plt.plot([70,70,70,70,70,70],no,c = \"yellow\")\n",
    "plt.scatter(sec_b,no,c = \"green\" , label = \"sec B\")\n",
    "plt.legend()"
   ]
  },
  {
   "cell_type": "code",
   "execution_count": 292,
   "id": "6c5a00a0-814e-4045-83ba-b01769ce1fbf",
   "metadata": {},
   "outputs": [
    {
     "data": {
      "text/plain": [
       "(3.3333333333333335, 23.0)"
      ]
     },
     "execution_count": 292,
     "metadata": {},
     "output_type": "execute_result"
    }
   ],
   "source": [
    "mad_a = np.sum(np.abs(sec_a - ma))/len(sec_a)\n",
    "mad_b = np.sum(np.abs(sec_b - mb))/len(sec_b)\n",
    "mad_a,mad_b"
   ]
  },
  {
   "cell_type": "code",
   "execution_count": 290,
   "id": "b61feb38-4b5d-4ea0-bb90-ae2a74fa296d",
   "metadata": {},
   "outputs": [
    {
     "data": {
      "text/plain": [
       "(3.559026084010437, 23.18045153428495)"
      ]
     },
     "execution_count": 290,
     "metadata": {},
     "output_type": "execute_result"
    }
   ],
   "source": [
    "np.std(sec_a) , np.std(sec_b)\n"
   ]
  },
  {
   "cell_type": "markdown",
   "id": "5ec4230c-f70c-4cfa-8a18-953e8bd15d59",
   "metadata": {},
   "source": []
  },
  {
   "cell_type": "code",
   "execution_count": 295,
   "id": "3501ac1f-4210-4f2b-bd50-78a7193d70d7",
   "metadata": {},
   "outputs": [
    {
     "data": {
      "text/plain": [
       "(12.666666666666666, 537.3333333333334)"
      ]
     },
     "execution_count": 295,
     "metadata": {},
     "output_type": "execute_result"
    }
   ],
   "source": [
    "np.var(sec_a),np.var(sec_b)"
   ]
  },
  {
   "cell_type": "code",
   "execution_count": 297,
   "id": "49f28118-e8a6-4ba5-8391-b24e6316789a",
   "metadata": {},
   "outputs": [
    {
     "data": {
      "text/html": [
       "<div>\n",
       "<style scoped>\n",
       "    .dataframe tbody tr th:only-of-type {\n",
       "        vertical-align: middle;\n",
       "    }\n",
       "\n",
       "    .dataframe tbody tr th {\n",
       "        vertical-align: top;\n",
       "    }\n",
       "\n",
       "    .dataframe thead th {\n",
       "        text-align: right;\n",
       "    }\n",
       "</style>\n",
       "<table border=\"1\" class=\"dataframe\">\n",
       "  <thead>\n",
       "    <tr style=\"text-align: right;\">\n",
       "      <th></th>\n",
       "      <th>year</th>\n",
       "      <th>month</th>\n",
       "      <th>day</th>\n",
       "      <th>dep_time</th>\n",
       "      <th>sched_dep_time</th>\n",
       "      <th>dep_delay</th>\n",
       "      <th>arr_time</th>\n",
       "      <th>sched_arr_time</th>\n",
       "      <th>arr_delay</th>\n",
       "      <th>flight</th>\n",
       "      <th>air_time</th>\n",
       "      <th>distance</th>\n",
       "      <th>hour</th>\n",
       "      <th>minute</th>\n",
       "    </tr>\n",
       "  </thead>\n",
       "  <tbody>\n",
       "    <tr>\n",
       "      <th>count</th>\n",
       "      <td>336776.0</td>\n",
       "      <td>336776.000000</td>\n",
       "      <td>336776.000000</td>\n",
       "      <td>328521.000000</td>\n",
       "      <td>336776.000000</td>\n",
       "      <td>328521.000000</td>\n",
       "      <td>328063.000000</td>\n",
       "      <td>336776.000000</td>\n",
       "      <td>327346.000000</td>\n",
       "      <td>336776.000000</td>\n",
       "      <td>327346.000000</td>\n",
       "      <td>336776.000000</td>\n",
       "      <td>336776.000000</td>\n",
       "      <td>336776.000000</td>\n",
       "    </tr>\n",
       "    <tr>\n",
       "      <th>mean</th>\n",
       "      <td>2013.0</td>\n",
       "      <td>6.548510</td>\n",
       "      <td>15.710787</td>\n",
       "      <td>1349.109947</td>\n",
       "      <td>1344.254840</td>\n",
       "      <td>12.639070</td>\n",
       "      <td>1502.054999</td>\n",
       "      <td>1536.380220</td>\n",
       "      <td>6.895377</td>\n",
       "      <td>1971.923620</td>\n",
       "      <td>150.686460</td>\n",
       "      <td>1039.912604</td>\n",
       "      <td>13.180247</td>\n",
       "      <td>26.230100</td>\n",
       "    </tr>\n",
       "    <tr>\n",
       "      <th>std</th>\n",
       "      <td>0.0</td>\n",
       "      <td>3.414457</td>\n",
       "      <td>8.768607</td>\n",
       "      <td>488.281791</td>\n",
       "      <td>467.335756</td>\n",
       "      <td>40.210061</td>\n",
       "      <td>533.264132</td>\n",
       "      <td>497.457142</td>\n",
       "      <td>44.633292</td>\n",
       "      <td>1632.471938</td>\n",
       "      <td>93.688305</td>\n",
       "      <td>733.233033</td>\n",
       "      <td>4.661316</td>\n",
       "      <td>19.300846</td>\n",
       "    </tr>\n",
       "    <tr>\n",
       "      <th>min</th>\n",
       "      <td>2013.0</td>\n",
       "      <td>1.000000</td>\n",
       "      <td>1.000000</td>\n",
       "      <td>1.000000</td>\n",
       "      <td>106.000000</td>\n",
       "      <td>-43.000000</td>\n",
       "      <td>1.000000</td>\n",
       "      <td>1.000000</td>\n",
       "      <td>-86.000000</td>\n",
       "      <td>1.000000</td>\n",
       "      <td>20.000000</td>\n",
       "      <td>17.000000</td>\n",
       "      <td>1.000000</td>\n",
       "      <td>0.000000</td>\n",
       "    </tr>\n",
       "    <tr>\n",
       "      <th>25%</th>\n",
       "      <td>2013.0</td>\n",
       "      <td>4.000000</td>\n",
       "      <td>8.000000</td>\n",
       "      <td>907.000000</td>\n",
       "      <td>906.000000</td>\n",
       "      <td>-5.000000</td>\n",
       "      <td>1104.000000</td>\n",
       "      <td>1124.000000</td>\n",
       "      <td>-17.000000</td>\n",
       "      <td>553.000000</td>\n",
       "      <td>82.000000</td>\n",
       "      <td>502.000000</td>\n",
       "      <td>9.000000</td>\n",
       "      <td>8.000000</td>\n",
       "    </tr>\n",
       "    <tr>\n",
       "      <th>50%</th>\n",
       "      <td>2013.0</td>\n",
       "      <td>7.000000</td>\n",
       "      <td>16.000000</td>\n",
       "      <td>1401.000000</td>\n",
       "      <td>1359.000000</td>\n",
       "      <td>-2.000000</td>\n",
       "      <td>1535.000000</td>\n",
       "      <td>1556.000000</td>\n",
       "      <td>-5.000000</td>\n",
       "      <td>1496.000000</td>\n",
       "      <td>129.000000</td>\n",
       "      <td>872.000000</td>\n",
       "      <td>13.000000</td>\n",
       "      <td>29.000000</td>\n",
       "    </tr>\n",
       "    <tr>\n",
       "      <th>75%</th>\n",
       "      <td>2013.0</td>\n",
       "      <td>10.000000</td>\n",
       "      <td>23.000000</td>\n",
       "      <td>1744.000000</td>\n",
       "      <td>1729.000000</td>\n",
       "      <td>11.000000</td>\n",
       "      <td>1940.000000</td>\n",
       "      <td>1945.000000</td>\n",
       "      <td>14.000000</td>\n",
       "      <td>3465.000000</td>\n",
       "      <td>192.000000</td>\n",
       "      <td>1389.000000</td>\n",
       "      <td>17.000000</td>\n",
       "      <td>44.000000</td>\n",
       "    </tr>\n",
       "    <tr>\n",
       "      <th>max</th>\n",
       "      <td>2013.0</td>\n",
       "      <td>12.000000</td>\n",
       "      <td>31.000000</td>\n",
       "      <td>2400.000000</td>\n",
       "      <td>2359.000000</td>\n",
       "      <td>1301.000000</td>\n",
       "      <td>2400.000000</td>\n",
       "      <td>2359.000000</td>\n",
       "      <td>1272.000000</td>\n",
       "      <td>8500.000000</td>\n",
       "      <td>695.000000</td>\n",
       "      <td>4983.000000</td>\n",
       "      <td>23.000000</td>\n",
       "      <td>59.000000</td>\n",
       "    </tr>\n",
       "  </tbody>\n",
       "</table>\n",
       "</div>"
      ],
      "text/plain": [
       "           year          month            day       dep_time  sched_dep_time  \\\n",
       "count  336776.0  336776.000000  336776.000000  328521.000000   336776.000000   \n",
       "mean     2013.0       6.548510      15.710787    1349.109947     1344.254840   \n",
       "std         0.0       3.414457       8.768607     488.281791      467.335756   \n",
       "min      2013.0       1.000000       1.000000       1.000000      106.000000   \n",
       "25%      2013.0       4.000000       8.000000     907.000000      906.000000   \n",
       "50%      2013.0       7.000000      16.000000    1401.000000     1359.000000   \n",
       "75%      2013.0      10.000000      23.000000    1744.000000     1729.000000   \n",
       "max      2013.0      12.000000      31.000000    2400.000000     2359.000000   \n",
       "\n",
       "           dep_delay       arr_time  sched_arr_time      arr_delay  \\\n",
       "count  328521.000000  328063.000000   336776.000000  327346.000000   \n",
       "mean       12.639070    1502.054999     1536.380220       6.895377   \n",
       "std        40.210061     533.264132      497.457142      44.633292   \n",
       "min       -43.000000       1.000000        1.000000     -86.000000   \n",
       "25%        -5.000000    1104.000000     1124.000000     -17.000000   \n",
       "50%        -2.000000    1535.000000     1556.000000      -5.000000   \n",
       "75%        11.000000    1940.000000     1945.000000      14.000000   \n",
       "max      1301.000000    2400.000000     2359.000000    1272.000000   \n",
       "\n",
       "              flight       air_time       distance           hour  \\\n",
       "count  336776.000000  327346.000000  336776.000000  336776.000000   \n",
       "mean     1971.923620     150.686460    1039.912604      13.180247   \n",
       "std      1632.471938      93.688305     733.233033       4.661316   \n",
       "min         1.000000      20.000000      17.000000       1.000000   \n",
       "25%       553.000000      82.000000     502.000000       9.000000   \n",
       "50%      1496.000000     129.000000     872.000000      13.000000   \n",
       "75%      3465.000000     192.000000    1389.000000      17.000000   \n",
       "max      8500.000000     695.000000    4983.000000      23.000000   \n",
       "\n",
       "              minute  \n",
       "count  336776.000000  \n",
       "mean       26.230100  \n",
       "std        19.300846  \n",
       "min         0.000000  \n",
       "25%         8.000000  \n",
       "50%        29.000000  \n",
       "75%        44.000000  \n",
       "max        59.000000  "
      ]
     },
     "execution_count": 297,
     "metadata": {},
     "output_type": "execute_result"
    }
   ],
   "source": [
    "df.describe()"
   ]
  },
  {
   "cell_type": "code",
   "execution_count": 307,
   "id": "c36cd957-3259-4be0-9701-b121a503fd64",
   "metadata": {},
   "outputs": [
    {
     "ename": "TypeError",
     "evalue": "'int' object is not callable",
     "output_type": "error",
     "traceback": [
      "\u001b[1;31m---------------------------------------------------------------------------\u001b[0m",
      "\u001b[1;31mTypeError\u001b[0m                                 Traceback (most recent call last)",
      "Cell \u001b[1;32mIn[307], line 1\u001b[0m\n\u001b[1;32m----> 1\u001b[0m sns\u001b[38;5;241m.\u001b[39mhistplot(x \u001b[38;5;241m=\u001b[39m \u001b[38;5;124m\"\u001b[39m\u001b[38;5;124mdistance\u001b[39m\u001b[38;5;124m\"\u001b[39m , data \u001b[38;5;241m=\u001b[39m df,bins \u001b[38;5;241m=\u001b[39m [i \u001b[38;5;28;01mfor\u001b[39;00m i \u001b[38;5;129;01min\u001b[39;00m \u001b[38;5;28mrange\u001b[39m(\u001b[38;5;241m0\u001b[39m,\u001b[38;5;241m400\u001b[39m)])\n",
      "\u001b[1;31mTypeError\u001b[0m: 'int' object is not callable"
     ]
    }
   ],
   "source": [
    "sns.histplot(x = \"distance\" , data = df,bins = [i for i in range(0,400)])\n"
   ]
  },
  {
   "cell_type": "code",
   "execution_count": null,
   "id": "ec472a62-8b1c-44d9-8efb-573045e44161",
   "metadata": {},
   "outputs": [],
   "source": []
  },
  {
   "cell_type": "code",
   "execution_count": null,
   "id": "46ccb03e-9bf7-440c-8527-d90ea6b86626",
   "metadata": {},
   "outputs": [],
   "source": []
  },
  {
   "cell_type": "code",
   "execution_count": null,
   "id": "9b004b2f-2df1-4046-8ee4-bfa1653d4c74",
   "metadata": {},
   "outputs": [],
   "source": []
  },
  {
   "cell_type": "code",
   "execution_count": null,
   "id": "bd72f868-d99c-400c-9ba0-e16eaed651eb",
   "metadata": {},
   "outputs": [],
   "source": []
  },
  {
   "cell_type": "code",
   "execution_count": null,
   "id": "451c0d7a-ed52-43af-b35b-efa3cd3d9d51",
   "metadata": {},
   "outputs": [],
   "source": []
  }
 ],
 "metadata": {
  "kernelspec": {
   "display_name": "Python 3 (ipykernel)",
   "language": "python",
   "name": "python3"
  },
  "language_info": {
   "codemirror_mode": {
    "name": "ipython",
    "version": 3
   },
   "file_extension": ".py",
   "mimetype": "text/x-python",
   "name": "python",
   "nbconvert_exporter": "python",
   "pygments_lexer": "ipython3",
   "version": "3.12.4"
  }
 },
 "nbformat": 4,
 "nbformat_minor": 5
}
